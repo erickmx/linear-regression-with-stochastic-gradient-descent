{
 "cells": [
  {
   "cell_type": "markdown",
   "metadata": {},
   "source": [
    "# Actividad 04 - ADALINE Regresión Lineal"
   ]
  },
  {
   "cell_type": "markdown",
   "metadata": {},
   "source": [
    "**Centro Universitario de Ciencias Exactas e Ingenierías**\\\n",
    "**Materia** Inteligencia artificial 2\\\n",
    "**Nombre:** Mejia Blanco Erick\\\n",
    "**Código:** 211408613"
   ]
  },
  {
   "cell_type": "markdown",
   "metadata": {},
   "source": [
    "### Instrucciones:\n",
    "\n",
    "Codifica el algoritmo del ADALINE con función de activación lineal\n",
    "\n",
    "1. Lee los datos del archivo \"**DataSet1.csv**\" , donde la primera columna son los datos en x y la segunda columna los datos en y.\n",
    "2. Entrena la neurona artificial usando cualquiera de los algoritmos vistos en clase\n",
    "3. Reporta tu código\n",
    "4. Elabora una gráfica con los puntos y la línea de regresión encontrada."
   ]
  },
  {
   "cell_type": "code",
   "execution_count": 1,
   "metadata": {},
   "outputs": [],
   "source": [
    "%matplotlib inline\n",
    "import csv\n",
    "import numpy as np\n",
    "import matplotlib.pyplot as plt"
   ]
  },
  {
   "cell_type": "markdown",
   "metadata": {},
   "source": [
    "**Stochastic Gradient Descent**"
   ]
  },
  {
   "cell_type": "code",
   "execution_count": 2,
   "metadata": {},
   "outputs": [],
   "source": [
    "def adaline(x, y, w, b, eta, epochs, dimentions, samples):\n",
    "    iters = 0\n",
    "    y_hat = 0\n",
    "    while iters < epochs:\n",
    "        for i in range(samples):\n",
    "            y_hat = (w.conj().T * x[i] + b).sum()\n",
    "            w = w + (eta * (y[i] - y_hat)) * x[i]\n",
    "            b = b + eta * (y[i] - y_hat)\n",
    "        iters += 1\n",
    "    return (w, b)"
   ]
  },
  {
   "cell_type": "code",
   "execution_count": 3,
   "metadata": {},
   "outputs": [],
   "source": [
    "def scale(vector):\n",
    "    return np.array([(x_i - np.mean(x_i))/np.std(x) for x_i in x])"
   ]
  },
  {
   "cell_type": "code",
   "execution_count": 4,
   "metadata": {},
   "outputs": [
    {
     "data": {
      "text/plain": [
       "array([[0.82202  , 0.1675   ],\n",
       "       [0.95587  , 0.0091221],\n",
       "       [0.87913  , 0.15943  ],\n",
       "       [0.38489  , 0.55851  ],\n",
       "       [0.94356  , 0.040785 ],\n",
       "       [0.42927  , 0.60479  ],\n",
       "       [0.1471   , 0.84797  ],\n",
       "       [0.29858  , 0.67316  ],\n",
       "       [0.68043  , 0.29689  ],\n",
       "       [0.94057  , 0.070909 ],\n",
       "       [0.95428  , 0.075731 ],\n",
       "       [0.59607  , 0.42001  ],\n",
       "       [0.95581  , 0.10373  ],\n",
       "       [0.39546  , 0.55537  ],\n",
       "       [0.022153 , 0.95033  ],\n",
       "       [0.28213  , 0.63034  ],\n",
       "       [0.012802 , 0.98033  ],\n",
       "       [0.86905  , 0.15324  ],\n",
       "       [0.4248   , 0.56525  ],\n",
       "       [0.075402 , 0.84485  ],\n",
       "       [0.12166  , 0.78626  ],\n",
       "       [0.22881  , 0.81876  ],\n",
       "       [0.2093   , 0.72919  ],\n",
       "       [0.87237  , 0.15714  ],\n",
       "       [0.76586  , 0.22224  ],\n",
       "       [0.33447  , 0.64804  ],\n",
       "       [0.37568  , 0.58886  ],\n",
       "       [0.59173  , 0.41899  ],\n",
       "       [0.53029  , 0.45347  ],\n",
       "       [0.32299  , 0.62423  ],\n",
       "       [0.85894  , 0.12609  ],\n",
       "       [0.25315  , 0.72985  ],\n",
       "       [0.94045  , 0.052637 ],\n",
       "       [0.38087  , 0.62111  ],\n",
       "       [0.68244  , 0.32423  ],\n",
       "       [0.26278  , 0.63203  ],\n",
       "       [0.0087067, 0.94196  ],\n",
       "       [0.94731  , 0.046564 ],\n",
       "       [0.52911  , 0.47697  ],\n",
       "       [0.67021  , 0.34624  ],\n",
       "       [0.60476  , 0.4052   ],\n",
       "       [0.75218  , 0.22825  ],\n",
       "       [0.98918  , 0.060676 ],\n",
       "       [0.72832  , 0.23644  ],\n",
       "       [0.86165  , 0.082418 ],\n",
       "       [1.       , 0.014058 ],\n",
       "       [0.76101  , 0.2672   ],\n",
       "       [0.13015  , 0.88528  ],\n",
       "       [0.31554  , 0.68785  ],\n",
       "       [0.0095586, 1.       ],\n",
       "       [0.69425  , 0.30404  ],\n",
       "       [0.96597  , 0.087746 ],\n",
       "       [0.72973  , 0.31158  ],\n",
       "       [0.73766  , 0.25921  ],\n",
       "       [0.15953  , 0.84985  ],\n",
       "       [0.34547  , 0.67934  ],\n",
       "       [0.57094  , 0.47231  ],\n",
       "       [0.45298  , 0.53007  ],\n",
       "       [0.83739  , 0.20279  ],\n",
       "       [0.81859  , 0.21538  ],\n",
       "       [0.31312  , 0.70625  ],\n",
       "       [0.45477  , 0.57549  ],\n",
       "       [0.67308  , 0.31539  ],\n",
       "       [0.59211  , 0.42042  ],\n",
       "       [0.11816  , 0.90129  ],\n",
       "       [0.       , 0.96275  ],\n",
       "       [0.10862  , 0.82668  ],\n",
       "       [0.20958  , 0.79645  ],\n",
       "       [0.44186  , 0.55275  ],\n",
       "       [0.52968  , 0.47555  ],\n",
       "       [0.99851  , 0.       ],\n",
       "       [0.7177   , 0.24552  ],\n",
       "       [0.98788  , 0.027957 ],\n",
       "       [0.03522  , 0.97693  ],\n",
       "       [0.63494  , 0.36687  ],\n",
       "       [0.96764  , 0.023135 ],\n",
       "       [0.25755  , 0.72471  ],\n",
       "       [0.95636  , 0.033671 ],\n",
       "       [0.90784  , 0.04037  ],\n",
       "       [0.18014  , 0.81135  ],\n",
       "       [0.73478  , 0.29635  ],\n",
       "       [0.15979  , 0.82397  ],\n",
       "       [0.088085 , 0.87214  ],\n",
       "       [0.303    , 0.7051   ],\n",
       "       [0.33864  , 0.68953  ],\n",
       "       [0.39026  , 0.61228  ],\n",
       "       [0.27194  , 0.72953  ],\n",
       "       [0.30279  , 0.68969  ],\n",
       "       [0.71866  , 0.2542   ],\n",
       "       [0.95146  , 0.051219 ],\n",
       "       [0.070239 , 0.94956  ],\n",
       "       [0.26744  , 0.71449  ],\n",
       "       [0.59307  , 0.42255  ],\n",
       "       [0.83195  , 0.16145  ],\n",
       "       [0.78435  , 0.2311   ],\n",
       "       [0.55304  , 0.41482  ],\n",
       "       [0.017262 , 0.91936  ],\n",
       "       [0.66836  , 0.2376   ],\n",
       "       [0.85308  , 0.1688   ],\n",
       "       [0.04728  , 0.94437  ]])"
      ]
     },
     "execution_count": 4,
     "metadata": {},
     "output_type": "execute_result"
    }
   ],
   "source": [
    "\"\"\"\n",
    "# Way number one to charge data from a csv\n",
    "lines = None\n",
    "with open('DataSet1.csv') as f:\n",
    "    lines = list(csv.reader(f, delimiter=','))\n",
    "data = np.array(lines, dtype=np.float).T\n",
    "data\n",
    "\"\"\"\n",
    "# Way number two to charge data from a csv\n",
    "data = np.genfromtxt('DataSet1.csv', delimiter=',', dtype=np.float)\n",
    "data"
   ]
  },
  {
   "cell_type": "code",
   "execution_count": 5,
   "metadata": {},
   "outputs": [
    {
     "name": "stdout",
     "output_type": "stream",
     "text": [
      "100 1\n"
     ]
    }
   ],
   "source": [
    "samples,dim = data.shape\n",
    "dim = 1\n",
    "print(samples, dim)"
   ]
  },
  {
   "cell_type": "code",
   "execution_count": 6,
   "metadata": {},
   "outputs": [
    {
     "data": {
      "text/plain": [
       "array([0.82202  , 0.95587  , 0.87913  , 0.38489  , 0.94356  , 0.42927  ,\n",
       "       0.1471   , 0.29858  , 0.68043  , 0.94057  , 0.95428  , 0.59607  ,\n",
       "       0.95581  , 0.39546  , 0.022153 , 0.28213  , 0.012802 , 0.86905  ,\n",
       "       0.4248   , 0.075402 , 0.12166  , 0.22881  , 0.2093   , 0.87237  ,\n",
       "       0.76586  , 0.33447  , 0.37568  , 0.59173  , 0.53029  , 0.32299  ,\n",
       "       0.85894  , 0.25315  , 0.94045  , 0.38087  , 0.68244  , 0.26278  ,\n",
       "       0.0087067, 0.94731  , 0.52911  , 0.67021  , 0.60476  , 0.75218  ,\n",
       "       0.98918  , 0.72832  , 0.86165  , 1.       , 0.76101  , 0.13015  ,\n",
       "       0.31554  , 0.0095586, 0.69425  , 0.96597  , 0.72973  , 0.73766  ,\n",
       "       0.15953  , 0.34547  , 0.57094  , 0.45298  , 0.83739  , 0.81859  ,\n",
       "       0.31312  , 0.45477  , 0.67308  , 0.59211  , 0.11816  , 0.       ,\n",
       "       0.10862  , 0.20958  , 0.44186  , 0.52968  , 0.99851  , 0.7177   ,\n",
       "       0.98788  , 0.03522  , 0.63494  , 0.96764  , 0.25755  , 0.95636  ,\n",
       "       0.90784  , 0.18014  , 0.73478  , 0.15979  , 0.088085 , 0.303    ,\n",
       "       0.33864  , 0.39026  , 0.27194  , 0.30279  , 0.71866  , 0.95146  ,\n",
       "       0.070239 , 0.26744  , 0.59307  , 0.83195  , 0.78435  , 0.55304  ,\n",
       "       0.017262 , 0.66836  , 0.85308  , 0.04728  ])"
      ]
     },
     "execution_count": 6,
     "metadata": {},
     "output_type": "execute_result"
    }
   ],
   "source": [
    "x = data[:, 0]\n",
    "x"
   ]
  },
  {
   "cell_type": "code",
   "execution_count": 7,
   "metadata": {},
   "outputs": [
    {
     "data": {
      "text/plain": [
       "array([0.1675   , 0.0091221, 0.15943  , 0.55851  , 0.040785 , 0.60479  ,\n",
       "       0.84797  , 0.67316  , 0.29689  , 0.070909 , 0.075731 , 0.42001  ,\n",
       "       0.10373  , 0.55537  , 0.95033  , 0.63034  , 0.98033  , 0.15324  ,\n",
       "       0.56525  , 0.84485  , 0.78626  , 0.81876  , 0.72919  , 0.15714  ,\n",
       "       0.22224  , 0.64804  , 0.58886  , 0.41899  , 0.45347  , 0.62423  ,\n",
       "       0.12609  , 0.72985  , 0.052637 , 0.62111  , 0.32423  , 0.63203  ,\n",
       "       0.94196  , 0.046564 , 0.47697  , 0.34624  , 0.4052   , 0.22825  ,\n",
       "       0.060676 , 0.23644  , 0.082418 , 0.014058 , 0.2672   , 0.88528  ,\n",
       "       0.68785  , 1.       , 0.30404  , 0.087746 , 0.31158  , 0.25921  ,\n",
       "       0.84985  , 0.67934  , 0.47231  , 0.53007  , 0.20279  , 0.21538  ,\n",
       "       0.70625  , 0.57549  , 0.31539  , 0.42042  , 0.90129  , 0.96275  ,\n",
       "       0.82668  , 0.79645  , 0.55275  , 0.47555  , 0.       , 0.24552  ,\n",
       "       0.027957 , 0.97693  , 0.36687  , 0.023135 , 0.72471  , 0.033671 ,\n",
       "       0.04037  , 0.81135  , 0.29635  , 0.82397  , 0.87214  , 0.7051   ,\n",
       "       0.68953  , 0.61228  , 0.72953  , 0.68969  , 0.2542   , 0.051219 ,\n",
       "       0.94956  , 0.71449  , 0.42255  , 0.16145  , 0.2311   , 0.41482  ,\n",
       "       0.91936  , 0.2376   , 0.1688   , 0.94437  ])"
      ]
     },
     "execution_count": 7,
     "metadata": {},
     "output_type": "execute_result"
    }
   ],
   "source": [
    "y = data[:, 1]\n",
    "y"
   ]
  },
  {
   "cell_type": "code",
   "execution_count": 8,
   "metadata": {},
   "outputs": [
    {
     "data": {
      "text/plain": [
       "array([[-0.09772659]])"
      ]
     },
     "execution_count": 8,
     "metadata": {},
     "output_type": "execute_result"
    }
   ],
   "source": [
    "w = -1 + 2 * np.random.rand(dim, 1)\n",
    "w"
   ]
  },
  {
   "cell_type": "code",
   "execution_count": 9,
   "metadata": {},
   "outputs": [
    {
     "data": {
      "text/plain": [
       "0.5333598695568598"
      ]
     },
     "execution_count": 9,
     "metadata": {},
     "output_type": "execute_result"
    }
   ],
   "source": [
    "b = -1 + 2 * np.random.rand()\n",
    "b"
   ]
  },
  {
   "cell_type": "code",
   "execution_count": 10,
   "metadata": {},
   "outputs": [
    {
     "data": {
      "text/plain": [
       "0.5"
      ]
     },
     "execution_count": 10,
     "metadata": {},
     "output_type": "execute_result"
    }
   ],
   "source": [
    "eta = .5\n",
    "eta"
   ]
  },
  {
   "cell_type": "code",
   "execution_count": 11,
   "metadata": {},
   "outputs": [
    {
     "data": {
      "text/plain": [
       "array([0.82202  , 0.95587  , 0.87913  , 0.38489  , 0.94356  , 0.42927  ,\n",
       "       0.1471   , 0.29858  , 0.68043  , 0.94057  , 0.95428  , 0.59607  ,\n",
       "       0.95581  , 0.39546  , 0.022153 , 0.28213  , 0.012802 , 0.86905  ,\n",
       "       0.4248   , 0.075402 , 0.12166  , 0.22881  , 0.2093   , 0.87237  ,\n",
       "       0.76586  , 0.33447  , 0.37568  , 0.59173  , 0.53029  , 0.32299  ,\n",
       "       0.85894  , 0.25315  , 0.94045  , 0.38087  , 0.68244  , 0.26278  ,\n",
       "       0.0087067, 0.94731  , 0.52911  , 0.67021  , 0.60476  , 0.75218  ,\n",
       "       0.98918  , 0.72832  , 0.86165  , 1.       , 0.76101  , 0.13015  ,\n",
       "       0.31554  , 0.0095586, 0.69425  , 0.96597  , 0.72973  , 0.73766  ,\n",
       "       0.15953  , 0.34547  , 0.57094  , 0.45298  , 0.83739  , 0.81859  ,\n",
       "       0.31312  , 0.45477  , 0.67308  , 0.59211  , 0.11816  , 0.       ,\n",
       "       0.10862  , 0.20958  , 0.44186  , 0.52968  , 0.99851  , 0.7177   ,\n",
       "       0.98788  , 0.03522  , 0.63494  , 0.96764  , 0.25755  , 0.95636  ,\n",
       "       0.90784  , 0.18014  , 0.73478  , 0.15979  , 0.088085 , 0.303    ,\n",
       "       0.33864  , 0.39026  , 0.27194  , 0.30279  , 0.71866  , 0.95146  ,\n",
       "       0.070239 , 0.26744  , 0.59307  , 0.83195  , 0.78435  , 0.55304  ,\n",
       "       0.017262 , 0.66836  , 0.85308  , 0.04728  ])"
      ]
     },
     "execution_count": 11,
     "metadata": {},
     "output_type": "execute_result"
    }
   ],
   "source": [
    "scale(x)\n",
    "x"
   ]
  },
  {
   "cell_type": "markdown",
   "metadata": {},
   "source": [
    "### Version sin ruido"
   ]
  },
  {
   "cell_type": "markdown",
   "metadata": {},
   "source": [
    "**Data To Classify**"
   ]
  },
  {
   "cell_type": "code",
   "execution_count": 12,
   "metadata": {},
   "outputs": [
    {
     "data": {
      "image/png": "[encoded data removed]",
      "text/plain": [
       "<Figure size 432x288 with 1 Axes>"
      ]
     },
     "metadata": {
      "needs_background": "light"
     },
     "output_type": "display_data"
    }
   ],
   "source": [
    "plt.title('Data')\n",
    "plt.grid(True)\n",
    "plt.plot(x, y, 'ob')\n",
    "plt.plot([0, 1], [w[0].conj().T * 0 + b, w[0].conj().T * 1 + b], '-m')\n",
    "plt.show()"
   ]
  },
  {
   "cell_type": "code",
   "execution_count": 13,
   "metadata": {},
   "outputs": [],
   "source": [
    "w_res, b_res = adaline(x=x, y=y, w=w, b=b, eta=eta, epochs=100, dimentions=dim, samples=samples)"
   ]
  },
  {
   "cell_type": "code",
   "execution_count": 14,
   "metadata": {},
   "outputs": [
    {
     "data": {
      "text/plain": [
       "array([[-0.95880842]])"
      ]
     },
     "execution_count": 14,
     "metadata": {},
     "output_type": "execute_result"
    }
   ],
   "source": [
    "w_res"
   ]
  },
  {
   "cell_type": "code",
   "execution_count": 15,
   "metadata": {},
   "outputs": [
    {
     "data": {
      "text/plain": [
       "0.9816051347292281"
      ]
     },
     "execution_count": 15,
     "metadata": {},
     "output_type": "execute_result"
    }
   ],
   "source": [
    "b_res"
   ]
  },
  {
   "cell_type": "code",
   "execution_count": 16,
   "metadata": {},
   "outputs": [
    {
     "data": {
      "image/png": "[encoded data removed]",
      "text/plain": [
       "<Figure size 432x288 with 1 Axes>"
      ]
     },
     "metadata": {
      "needs_background": "light"
     },
     "output_type": "display_data"
    }
   ],
   "source": [
    "plt.title('Data Final')\n",
    "plt.grid(True)\n",
    "plt.plot(x, y, 'ob')\n",
    "plt.plot([0, 1], [w_res[0].conj().T * 0 + b_res, w_res[0].conj().T * 1 + b_res], '-m')\n",
    "plt.show()"
   ]
  },
  {
   "cell_type": "markdown",
   "metadata": {},
   "source": [
    "### Version con ruido"
   ]
  },
  {
   "cell_type": "code",
   "execution_count": 17,
   "metadata": {},
   "outputs": [],
   "source": [
    "max_pendiente = 1\n",
    "min_pendiente = 0"
   ]
  },
  {
   "cell_type": "code",
   "execution_count": 18,
   "metadata": {},
   "outputs": [],
   "source": [
    "max_ordenada = 1\n",
    "min_ordenada = 0"
   ]
  },
  {
   "cell_type": "code",
   "execution_count": 19,
   "metadata": {},
   "outputs": [],
   "source": [
    "noise = .25"
   ]
  },
  {
   "cell_type": "code",
   "execution_count": 20,
   "metadata": {},
   "outputs": [
    {
     "data": {
      "text/plain": [
       "array([0.5043526])"
      ]
     },
     "execution_count": 20,
     "metadata": {},
     "output_type": "execute_result"
    }
   ],
   "source": [
    "pendiente = - min_pendiente + (max_pendiente - min_pendiente) * np.random.rand(1)\n",
    "pendiente"
   ]
  },
  {
   "cell_type": "code",
   "execution_count": 21,
   "metadata": {},
   "outputs": [
    {
     "data": {
      "text/plain": [
       "array([0.94211831])"
      ]
     },
     "execution_count": 21,
     "metadata": {},
     "output_type": "execute_result"
    }
   ],
   "source": [
    "ordenada = - min_ordenada + (max_ordenada - min_ordenada) * np.random.rand(1)\n",
    "ordenada"
   ]
  },
  {
   "cell_type": "code",
   "execution_count": 22,
   "metadata": {},
   "outputs": [
    {
     "data": {
      "text/plain": [
       "array([1.35670624, 1.42421383, 1.38550981, 1.13623858, 1.41800525,\n",
       "       1.15862175, 1.01630858, 1.09270791, 1.28529495, 1.41649724,\n",
       "       1.42341191, 1.24274776, 1.42418357, 1.14156959, 0.95329123,\n",
       "       1.08441131, 0.94857503, 1.38042594, 1.15636729, 0.9801475 ,\n",
       "       1.00347785, 1.05751923, 1.04767931, 1.38210039, 1.32838179,\n",
       "       1.11080912, 1.13159349, 1.24055887, 1.20957145, 1.10501916,\n",
       "       1.37532693, 1.06979517, 1.41643671, 1.13421108, 1.2863087 ,\n",
       "       1.07465209, 0.94650955, 1.41989657, 1.20897631, 1.28014047,\n",
       "       1.24713059, 1.32148225, 1.44101382, 1.3094484 , 1.37669373,\n",
       "       1.44647091, 1.32593568, 1.0077598 , 1.10126173, 0.94693921,\n",
       "       1.2922651 , 1.42930779, 1.31015953, 1.31415905, 1.02257768,\n",
       "       1.116357  , 1.23007338, 1.17057995, 1.36445814, 1.35497631,\n",
       "       1.1000412 , 1.17148274, 1.28158796, 1.24075053, 1.00171261,\n",
       "       0.94211831, 0.99690109, 1.04782053, 1.16497155, 1.2092638 ,\n",
       "       1.44571943, 1.30409217, 1.44035816, 0.95988161, 1.26235195,\n",
       "       1.43015006, 1.07201432, 1.42446096, 1.39998978, 1.03297239,\n",
       "       1.31270651, 1.02270881, 0.98654421, 1.09493715, 1.11291227,\n",
       "       1.13894696, 1.07927196, 1.09483123, 1.30457635, 1.42198964,\n",
       "       0.97754353, 1.07700237, 1.24123471, 1.36171446, 1.33770727,\n",
       "       1.22104547, 0.95082444, 1.27920741, 1.37237143, 0.9659641 ])"
      ]
     },
     "execution_count": 22,
     "metadata": {},
     "output_type": "execute_result"
    }
   ],
   "source": [
    "y = pendiente * x + ordenada\n",
    "y"
   ]
  },
  {
   "cell_type": "code",
   "execution_count": 23,
   "metadata": {},
   "outputs": [
    {
     "data": {
      "text/plain": [
       "array([1.36554418, 1.43305178, 1.39434776, 1.14507653, 1.4268432 ,\n",
       "       1.1674597 , 1.02514652, 1.10154585, 1.2941329 , 1.42533518,\n",
       "       1.43224986, 1.25158571, 1.43302152, 1.15040753, 0.96212918,\n",
       "       1.09324925, 0.95741298, 1.38926388, 1.16520524, 0.98898545,\n",
       "       1.01231579, 1.06635717, 1.05651725, 1.39093834, 1.33721974,\n",
       "       1.11964707, 1.14043144, 1.24939682, 1.2184094 , 1.1138571 ,\n",
       "       1.38416488, 1.07863312, 1.42527466, 1.14304903, 1.29514665,\n",
       "       1.08349003, 0.9553475 , 1.42873452, 1.21781426, 1.28897841,\n",
       "       1.25596853, 1.3303202 , 1.44985176, 1.31828634, 1.38553168,\n",
       "       1.45530886, 1.33477363, 1.01659775, 1.11009967, 0.95577716,\n",
       "       1.30110305, 1.43814574, 1.31899748, 1.322997  , 1.03141562,\n",
       "       1.12519495, 1.23891133, 1.1794179 , 1.37329608, 1.36381425,\n",
       "       1.10887914, 1.18032069, 1.2904259 , 1.24958847, 1.01055056,\n",
       "       0.95095625, 1.00573903, 1.05665847, 1.1738095 , 1.21810174,\n",
       "       1.45455737, 1.31293012, 1.4491961 , 0.96871955, 1.2711899 ,\n",
       "       1.43898801, 1.08085227, 1.43329891, 1.40882772, 1.04181033,\n",
       "       1.32154446, 1.03154676, 0.99538215, 1.10377509, 1.12175022,\n",
       "       1.1477849 , 1.0881099 , 1.10366918, 1.3134143 , 1.43082758,\n",
       "       0.98638148, 1.08584031, 1.25007265, 1.3705524 , 1.34654522,\n",
       "       1.22988342, 0.95966239, 1.28804536, 1.38120937, 0.97480204])"
      ]
     },
     "execution_count": 23,
     "metadata": {},
     "output_type": "execute_result"
    }
   ],
   "source": [
    "y = y + noise * np.random.rand(samples, dim)[0]\n",
    "y"
   ]
  },
  {
   "cell_type": "code",
   "execution_count": 24,
   "metadata": {},
   "outputs": [
    {
     "data": {
      "text/plain": [
       "array([[0.03852224]])"
      ]
     },
     "execution_count": 24,
     "metadata": {},
     "output_type": "execute_result"
    }
   ],
   "source": [
    "w = -1 + 2 * np.random.rand(dim, 1)\n",
    "w"
   ]
  },
  {
   "cell_type": "code",
   "execution_count": 25,
   "metadata": {},
   "outputs": [
    {
     "data": {
      "text/plain": [
       "-0.9965792723963813"
      ]
     },
     "execution_count": 25,
     "metadata": {},
     "output_type": "execute_result"
    }
   ],
   "source": [
    "b = -1 + 2 * np.random.rand()\n",
    "b"
   ]
  },
  {
   "cell_type": "code",
   "execution_count": 26,
   "metadata": {},
   "outputs": [
    {
     "data": {
      "image/png": "[encoded data removed]",
      "text/plain": [
       "<Figure size 432x288 with 1 Axes>"
      ]
     },
     "metadata": {
      "needs_background": "light"
     },
     "output_type": "display_data"
    }
   ],
   "source": [
    "plt.title('Data')\n",
    "plt.grid(True)\n",
    "plt.plot(x, y, 'ob')\n",
    "plt.plot([0, 1], [w[0].conj().T * 0 + b, w[0].conj().T * 1 + b], '-m')\n",
    "plt.show()"
   ]
  },
  {
   "cell_type": "code",
   "execution_count": 27,
   "metadata": {},
   "outputs": [],
   "source": [
    "w_res, b_res = adaline(x=x, y=y, w=w, b=b, eta=eta, epochs=100, dimentions=dim, samples=samples)"
   ]
  },
  {
   "cell_type": "code",
   "execution_count": 28,
   "metadata": {},
   "outputs": [
    {
     "data": {
      "text/plain": [
       "array([[0.5043526]])"
      ]
     },
     "execution_count": 28,
     "metadata": {},
     "output_type": "execute_result"
    }
   ],
   "source": [
    "w_res"
   ]
  },
  {
   "cell_type": "code",
   "execution_count": 29,
   "metadata": {},
   "outputs": [
    {
     "data": {
      "text/plain": [
       "0.9509562537976778"
      ]
     },
     "execution_count": 29,
     "metadata": {},
     "output_type": "execute_result"
    }
   ],
   "source": [
    "b_res"
   ]
  },
  {
   "cell_type": "code",
   "execution_count": 30,
   "metadata": {},
   "outputs": [
    {
     "data": {
      "image/png": "[encoded data removed]",
      "text/plain": [
       "<Figure size 432x288 with 1 Axes>"
      ]
     },
     "metadata": {
      "needs_background": "light"
     },
     "output_type": "display_data"
    }
   ],
   "source": [
    "plt.title('Data Final')\n",
    "plt.grid(True)\n",
    "plt.plot(x, y, 'ob')\n",
    "plt.plot([0, 1], [w_res[0].conj().T * 0 + b_res, w_res[0].conj().T * 1 + b_res], '-m')\n",
    "plt.show()"
   ]
  }
 ],
 "metadata": {
  "kernelspec": {
   "display_name": "Python 3",
   "language": "python",
   "name": "python3"
  },
  "language_info": {
   "codemirror_mode": {
    "name": "ipython",
    "version": 3
   },
   "file_extension": ".py",
   "mimetype": "text/x-python",
   "name": "python",
   "nbconvert_exporter": "python",
   "pygments_lexer": "ipython3",
   "version": "3.7.3"
  }
 },
 "nbformat": 4,
 "nbformat_minor": 2
}
